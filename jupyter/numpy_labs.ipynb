{
 "metadata": {
  "language_info": {
   "codemirror_mode": {
    "name": "ipython",
    "version": 3
   },
   "file_extension": ".py",
   "mimetype": "text/x-python",
   "name": "python",
   "nbconvert_exporter": "python",
   "pygments_lexer": "ipython3",
   "version": "3.9.1"
  },
  "orig_nbformat": 2,
  "kernelspec": {
   "name": "python391jvsc74a57bd09ecffbdcc0de07b27d306fbfec5b20e08698fc01e4050581b6965716e245f3f5",
   "display_name": "Python 3.9.1 64-bit (windows store)"
  },
  "metadata": {
   "interpreter": {
    "hash": "9ecffbdcc0de07b27d306fbfec5b20e08698fc01e4050581b6965716e245f3f5"
   }
  }
 },
 "nbformat": 4,
 "nbformat_minor": 2,
 "cells": [
  {
   "cell_type": "code",
   "execution_count": 246,
   "metadata": {},
   "outputs": [],
   "source": [
    "import numpy as np\n",
    "from PIL import Image"
   ]
  },
  {
   "cell_type": "code",
   "execution_count": 361,
   "metadata": {},
   "outputs": [
    {
     "output_type": "execute_result",
     "data": {
      "text/plain": [
       "True"
      ]
     },
     "metadata": {},
     "execution_count": 361
    }
   ],
   "source": [
    "image = Image.open(\"./balise.jpg\")\n",
    "image = image.resize((160,300),Image.ANTIALIAS)\n",
    "data = np.asarray(image)\n",
    "data.shape\n",
    "\n",
    "def select(R, G, B):\n",
    "    data_copy = data.copy()\n",
    "    data_copy[:,:,2] = np.select([B], [data_copy[:,:,2]])\n",
    "    data_copy[:,:,1] = np.select([G], [data_copy[:,:,1]])\n",
    "    data_copy[:,:,0] = np.select([R], [data_copy[:,:,0]])\n",
    "    data_copy[np.any(data_copy[:,:] == 0, axis=2)] = [0,0,0]\n",
    "    return data_copy\n",
    "\n",
    "R = np.logical_and(10 < data[:,:,0], data[:,:,0] < 35)\n",
    "G = np.logical_and(80 < data[:,:,1], data[:,:,1] < 100)\n",
    "B = np.logical_and(160 < data[:,:,2], data[:,:,2] < 180)\n",
    "\n",
    "image_blue = select(R, G, B)\n",
    "R = np.logical_and(40 < data[:,:,0], data[:,:,0] < 65)\n",
    "G = np.logical_and(130 < data[:,:,1], data[:,:,1] < 145)\n",
    "B = np.logical_and(100 < data[:,:,2], data[:,:,2] < 120)\n",
    "\n",
    "image_green = select(R,G,B)\n",
    "R = np.logical_and(180 < data[:,:,0], data[:,:,0] < 190)\n",
    "G = np.logical_and(60 < data[:,:,1], data[:,:,1] < 75)\n",
    "B = np.logical_and(65 < data[:,:,2], data[:,:,2] < 75)\n",
    "\n",
    "image_red = select(R,G,B)\n",
    "lignes_b, colonnes_b = np.where(image_blue[:,:,0] != 0)\n",
    "lignes_g, colonnes_g = np.where(image_green[:,:,0] != 0)\n",
    "lignes_r, colonnes_r = np.where(image_red[:,:,0] != 0)\n",
    "\n",
    "baliseInFront = np.average(colonnes_r) <= np.average(colonnes_b) and (np.min(lignes_b) <= np.average(lignes_r) <= np.max(lignes_b))\n",
    "baliseInFront = baliseInFront and (np.min(colonnes_b) <= np.average(colonnes_g) <= np.max(colonnes_b)) and np.average(lignes_g) <= np.average(lignes_b)\n",
    "baliseInFront"
   ]
  }
 ]
}