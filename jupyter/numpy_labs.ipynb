{
 "metadata": {
  "language_info": {
   "codemirror_mode": {
    "name": "ipython",
    "version": 3
   },
   "file_extension": ".py",
   "mimetype": "text/x-python",
   "name": "python",
   "nbconvert_exporter": "python",
   "pygments_lexer": "ipython3",
   "version": "3.9.1"
  },
  "orig_nbformat": 2,
  "kernelspec": {
   "name": "python391jvsc74a57bd09ecffbdcc0de07b27d306fbfec5b20e08698fc01e4050581b6965716e245f3f5",
   "display_name": "Python 3.9.1 64-bit (windows store)"
  },
  "metadata": {
   "interpreter": {
    "hash": "9ecffbdcc0de07b27d306fbfec5b20e08698fc01e4050581b6965716e245f3f5"
   }
  }
 },
 "nbformat": 4,
 "nbformat_minor": 2,
 "cells": [
  {
   "cell_type": "code",
   "execution_count": 2,
   "metadata": {},
   "outputs": [],
   "source": [
    "import numpy as np\n",
    "from PIL import Image\n",
    "import math"
   ]
  },
  {
   "cell_type": "code",
   "execution_count": 6,
   "metadata": {},
   "outputs": [
    {
     "output_type": "execute_result",
     "data": {
      "text/plain": [
       "(True, False, False, 0.5868174287307522)"
      ]
     },
     "metadata": {},
     "execution_count": 6
    }
   ],
   "source": [
    "def select(data, R, G, B):\n",
    "    data_copy = data.copy()\n",
    "    data_copy[:, :, 2] = np.select([B], [data_copy[:, :, 2]])\n",
    "    data_copy[:, :, 1] = np.select([G], [data_copy[:, :, 1]])\n",
    "    data_copy[:, :, 0] = np.select([R], [data_copy[:, :, 0]])\n",
    "    data_copy[np.any(data_copy[:, :] == 0, axis=2)] = [0, 0, 0]\n",
    "    return data_copy\n",
    "\n",
    "\n",
    "def distance(data, ligne, colonne):\n",
    "    ligne_c, colonne_c, _ = data.shape\n",
    "    ligne_c = ligne_c // 2\n",
    "    colonne_c = colonne_c // 2\n",
    "    return ((ligne_c - ligne) ** 2 + (colonne_c - colonne) ** 2) ** (.5)\n",
    "\n",
    "\n",
    "def detectBalise(image):\n",
    "    image = image.resize((160,300),Image.ANTIALIAS)\n",
    "    data = np.asarray(image)\n",
    "\n",
    "    R = np.logical_and(10 < data[:, :, 0], data[:, :, 0] < 35)\n",
    "    G = np.logical_and(80 < data[:, :, 1], data[:, :, 1] < 100)\n",
    "    B = np.logical_and(160 < data[:, :, 2], data[:, :, 2] < 180)\n",
    "\n",
    "    image_blue = select(data, R, G, B)\n",
    "    R = np.logical_and(40 < data[:, :, 0], data[:, :, 0] < 65)\n",
    "    G = np.logical_and(130 < data[:, :, 1], data[:, :, 1] < 145)\n",
    "    B = np.logical_and(100 < data[:, :, 2], data[:, :, 2] < 120)\n",
    "\n",
    "    image_green = select(data, R, G, B)\n",
    "    R = np.logical_and(180 < data[:, :, 0], data[:, :, 0] < 190)\n",
    "    G = np.logical_and(60 < data[:, :, 1], data[:, :, 1] < 75)\n",
    "    B = np.logical_and(65 < data[:, :, 2], data[:, :, 2] < 75)\n",
    "\n",
    "    image_red = select(data, R, G, B)\n",
    "    lignes_b, colonnes_b = np.where(image_blue[:, :, 0] != 0)\n",
    "    lignes_g, colonnes_g = np.where(image_green[:, :, 0] != 0)\n",
    "    lignes_r, colonnes_r = np.where(image_red[:, :, 0] != 0)\n",
    "\n",
    "    # balise on image\n",
    "    avg_c_r = np.average(colonnes_r)\n",
    "    avg_c_b = np.average(colonnes_b)\n",
    "    avg_c_g = np.average(colonnes_g)\n",
    "    avg_l_g = np.average(lignes_g)\n",
    "    avg_l_b = np.average(lignes_b)\n",
    "    avg_l_r = np.average(lignes_r)\n",
    "    balise = avg_c_r <= avg_c_b and (\n",
    "        np.min(lignes_b) <= avg_l_r <= np.max(lignes_b))\n",
    "    balise = balise and (np.min(colonnes_b) <= avg_c_g <=\n",
    "                         np.max(colonnes_b)) and avg_l_g <= avg_l_b\n",
    "\n",
    "    #balise in front\n",
    "    baliseInFront = False\n",
    "    itIsLeft = None\n",
    "    pourcentage = None\n",
    "\n",
    "    if balise:\n",
    "        colonne_c = data.shape[1] // 2\n",
    "        dist_corner = distance(data, 0, 0)\n",
    "        dist_r = .2 <= (distance(data, avg_l_r, avg_c_r) / dist_corner) <= .6\n",
    "        dist_g = .2 <= (distance(data, avg_l_g, avg_c_g) / dist_corner) <= .6\n",
    "        dist_b = .2 <= (distance(data, avg_l_b, avg_c_b) / dist_corner) <= .6\n",
    "        baliseInFront = balise and dist_r and dist_b and dist_g\n",
    "        baliseInFront = baliseInFront and avg_c_b > colonne_c and avg_c_r < colonne_c and avg_c_g > colonne_c\n",
    "\n",
    "        if not baliseInFront:\n",
    "            itIsLeft = avg_c_b < colonne_c\n",
    "            pourcentage = abs((avg_c_b + avg_c_r) / 2. -\n",
    "                              colonne_c) / colonne_c\n",
    "\n",
    "    return balise, baliseInFront, itIsLeft, pourcentage\n",
    "\n",
    "# 3-uplet\n",
    "# 0 - is balise on image capture ?\n",
    "# 1 - is balise in front of robot ?\n",
    "# 2 - if balise on image, however not in front say if it is on more on left (True) or more on right (False)\n",
    "# 3 - pourcentage is how many the balise is from the center image.\n",
    "detectBalise(Image.open(\"./balise_right.jpg\"))"
   ]
  }
 ]
}