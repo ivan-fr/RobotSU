{
 "metadata": {
  "language_info": {
   "codemirror_mode": {
    "name": "ipython",
    "version": 3
   },
   "file_extension": ".py",
   "mimetype": "text/x-python",
   "name": "python",
   "nbconvert_exporter": "python",
   "pygments_lexer": "ipython3",
   "version": "3.9.1"
  },
  "orig_nbformat": 2,
  "kernelspec": {
   "name": "python391jvsc74a57bd09ecffbdcc0de07b27d306fbfec5b20e08698fc01e4050581b6965716e245f3f5",
   "display_name": "Python 3.9.1 64-bit (windows store)"
  },
  "metadata": {
   "interpreter": {
    "hash": "9ecffbdcc0de07b27d306fbfec5b20e08698fc01e4050581b6965716e245f3f5"
   }
  }
 },
 "nbformat": 4,
 "nbformat_minor": 2,
 "cells": [
  {
   "cell_type": "code",
   "execution_count": 2,
   "metadata": {},
   "outputs": [],
   "source": [
    "import numpy as np\n",
    "import matplotlib as plt\n",
    "from PIL import Image"
   ]
  },
  {
   "cell_type": "code",
   "execution_count": 171,
   "metadata": {},
   "outputs": [],
   "source": [
    "image = Image.open(\"./balise.jpg\")\n",
    "data = np.asarray(image)\n",
    "data.shape\n",
    "\n",
    "def select(R, G, B):\n",
    "    data_copy = data.copy()\n",
    "    data_copy[:,:,2] = np.select([B], [data_copy[:,:,2]])\n",
    "    data_copy[:,:,1] = np.select([G], [data_copy[:,:,1]])\n",
    "    data_copy[:,:,0] = np.select([R], [data_copy[:,:,0]])\n",
    "    data_copy[np.any(data_copy[:,:] == 0, axis=2)] = [0,0,0]\n",
    "    return data_copy\n",
    "\n",
    "R = np.logical_and(10 < data[:,:,0], data[:,:,0] < 35)\n",
    "G = np.logical_and(80 < data[:,:,1], data[:,:,1] < 100)\n",
    "B = np.logical_and(160 < data[:,:,2], data[:,:,2] < 180)\n",
    "\n",
    "Image.fromarray(select(R, G, B)).save('B1.png')\n",
    "\n",
    "R = np.logical_and(40 < data[:,:,0], data[:,:,0] < 65)\n",
    "G = np.logical_and(130 < data[:,:,1], data[:,:,1] < 145)\n",
    "B = np.logical_and(100 < data[:,:,2], data[:,:,2] < 120)\n",
    "\n",
    "Image.fromarray(select(R,G,B)).save('B2.png')\n",
    "\n",
    "R = np.logical_and(180 < data[:,:,0], data[:,:,0] < 190)\n",
    "G = np.logical_and(60 < data[:,:,1], data[:,:,1] < 75)\n",
    "B = np.logical_and(65 < data[:,:,2], data[:,:,2] < 75)\n",
    "\n",
    "Image.fromarray(select(R,G,B)).save('B3.png')"
   ]
  }
 ]
}