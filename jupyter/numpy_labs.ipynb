{
 "metadata": {
  "language_info": {
   "codemirror_mode": {
    "name": "ipython",
    "version": 3
   },
   "file_extension": ".py",
   "mimetype": "text/x-python",
   "name": "python",
   "nbconvert_exporter": "python",
   "pygments_lexer": "ipython3",
   "version": "3.8.6"
  },
  "orig_nbformat": 2,
  "kernelspec": {
   "name": "python3",
   "display_name": "Python 3",
   "language": "python"
  },
  "metadata": {
   "interpreter": {
    "hash": "9ecffbdcc0de07b27d306fbfec5b20e08698fc01e4050581b6965716e245f3f5"
   }
  }
 },
 "nbformat": 4,
 "nbformat_minor": 2,
 "cells": [
  {
   "cell_type": "code",
   "execution_count": 1,
   "metadata": {},
   "outputs": [],
   "source": [
    "import numpy as np\n",
    "from PIL import Image\n",
    "import matplotlib.pyplot as plt\n",
    "import math"
   ]
  },
  {
   "cell_type": "code",
   "execution_count": 36,
   "metadata": {},
   "outputs": [
    {
     "output_type": "execute_result",
     "data": {
      "text/plain": [
       "(True, False, True, 0.1875)"
      ]
     },
     "metadata": {},
     "execution_count": 36
    }
   ],
   "source": [
    "def get_min_col_from_max_g_and_b(array):\n",
    "    array_adapted = np.zeros((array.shape[0] + 2,))\n",
    "    array_adapted[1:-1] = array\n",
    "    zeros_index = np.where(array_adapted == 0)[0]\n",
    "    diff = zeros_index[1:] - zeros_index[:-1]\n",
    "    return int(array_adapted[zeros_index[np.argmax(diff)]+1]), np.max(diff) - 1\n",
    "\n",
    "def detectBalise(image):\n",
    "    data = np.asarray(image)\n",
    "    colors = (\"r\", \"g\", \"b\")\n",
    "    channel_ids = (0, 1, 2)\n",
    "\n",
    "    # create the histogram plot, with three lines, one for\n",
    "    # each color\n",
    "    #plt.xlim([0, data.shape[1]])\n",
    "    histograms = []\n",
    "\n",
    "    for channel_id, c in zip(channel_ids, colors):\n",
    "        if channel_id == 0:\n",
    "            logical = (data[:, :, 0] > 30) & \\\n",
    "              (data[:, :, 1] < data[:, :, 0]) & \\\n",
    "               (data[:, :, 2] < data[:, :, 0])\n",
    "        elif channel_id == 2:\n",
    "            logical = (data[:, :, 2] > 30) & \\\n",
    "              (data[:, :, 1] < data[:, :, 2]) & \\\n",
    "               (data[:, :, 0] < data[:, :, 2])\n",
    "        else:\n",
    "            logical = (data[:, :, 1] > 30) & \\\n",
    "              (data[:, :, 0] < data[:, :, 1]) & \\\n",
    "               (data[:, :, 2] < data[:, :, 1])\n",
    "\n",
    "        _, col = np.where(logical)\n",
    "        histogram, bin_edges = np.histogram(\n",
    "        col, bins=data.shape[1], range=(0, data.shape[1])\n",
    "        )\n",
    "        histograms.append(histogram)\n",
    "        #plt.plot(bin_edges[:-1], histogram, color=c)\n",
    "\n",
    "    histo_r, histo_g, histo_b = histograms\n",
    "\n",
    "    r_and_g = np.where((histo_g[:] > 40) & (histo_b[:] > 50), 1, 0)\n",
    "    more_r_than_blue = histo_r[:] > histo_b[:]\n",
    "    r_and_g_col = np.where(r_and_g != 0)[0]\n",
    "\n",
    "    diff_close = r_and_g_col[1:] - r_and_g_col[:-1]\n",
    "    r_and_g_col = np.where(diff_close <= 10, r_and_g_col[1:], 0)\n",
    "\n",
    "    col_min, length = get_min_col_from_max_g_and_b(r_and_g_col)\n",
    "\n",
    "    balise = False\n",
    "\n",
    "    if length > data.shape[1] * 0.08:\n",
    "        balise_b = more_r_than_blue[col_min-int(length*.94):col_min-1]\n",
    "\n",
    "        if balise_b.size > 0:\n",
    "            balise = np.all(balise_b)\n",
    "        else:\n",
    "            balise = False\n",
    "\n",
    "    #balise in front\n",
    "    baliseInFront = False\n",
    "    itIsLeft = None\n",
    "    pourcentage = None\n",
    "\n",
    "    if balise:\n",
    "        colonne_midle = data.shape[1] // 2\n",
    "        baliseInFront = abs(colonne_midle - col_min) <= 50\n",
    "\n",
    "        if not baliseInFront:\n",
    "            itIsLeft = col_min < colonne_midle\n",
    "            pourcentage = abs(col_min -\n",
    "                              colonne_midle) / colonne_midle\n",
    "\n",
    "    #plt.xlabel(\"colonnes\")\n",
    "    #plt.ylabel(\"quantite RGB\")\n",
    "    #plt.show()\n",
    "    return balise, baliseInFront, itIsLeft, pourcentage\n",
    "\n",
    "# 3-uplet\n",
    "# 0 - is balise on image capture ?\n",
    "# 1 - is balise in front of robot ?\n",
    "# 2 - if balise on image, however not in front say if it is on more on left (True) or more on right (False)\n",
    "# 3 - pourcentage is how many the balise is from the center image.\n",
    "detectBalise(Image.open(\"./image_test_2.jpeg\"))\n"
   ]
  }
 ]
}